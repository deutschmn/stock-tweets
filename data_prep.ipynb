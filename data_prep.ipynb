{
 "metadata": {
  "language_info": {
   "codemirror_mode": {
    "name": "ipython",
    "version": 3
   },
   "file_extension": ".py",
   "mimetype": "text/x-python",
   "name": "python",
   "nbconvert_exporter": "python",
   "pygments_lexer": "ipython3",
   "version": "3.9.2"
  },
  "orig_nbformat": 2,
  "kernelspec": {
   "name": "python392jvsc74a57bd0425977397c83a3f0ac1f40aaa96f3d66b73f4b36467c10a5c539e2a361506e78",
   "display_name": "Python 3.9.2 64-bit ('3.9.2': pyenv)"
  }
 },
 "nbformat": 4,
 "nbformat_minor": 2,
 "cells": [
  {
   "cell_type": "code",
   "execution_count": 1,
   "metadata": {},
   "outputs": [],
   "source": [
    "import pandas as pd\n",
    "import numpy as np\n",
    "from tqdm.notebook import tqdm\n",
    "import json\n",
    "import os"
   ]
  },
  {
   "cell_type": "code",
   "execution_count": 2,
   "metadata": {},
   "outputs": [],
   "source": [
    "def load_tweets(min_followers=None, tweet_path=\"data/tweet/raw\"):\n",
    "    dfs = []\n",
    "\n",
    "    for symbol in tqdm(os.listdir(tweet_path)):\n",
    "        for day in os.listdir(os.path.join(tweet_path, symbol)):\n",
    "            file_path = os.path.join(tweet_path, symbol, day)\n",
    "\n",
    "            with open(file_path) as f:\n",
    "                content = f.readlines()\n",
    "                d = list(map(json.loads, content))\n",
    "                df = pd.DataFrame(d)\n",
    "\n",
    "                if min_followers is not None:\n",
    "                    df = df[df[\"user\"].apply(lambda u: u[\"followers_count\"]) > min_followers]\n",
    "                \n",
    "                if len(df) > 0:\n",
    "                    dfs.append(df)\n",
    "\n",
    "    tweets = pd.concat(dfs)\n",
    "    print(f\"Found {len(tweets)} tweets\")\n",
    "\n",
    "    simple_tweets = pd.DataFrame()\n",
    "    simple_tweets[\"date\"] = pd.to_datetime(tweets[\"created_at\"])\n",
    "    simple_tweets[\"text\"] = tweets[\"text\"].apply(lambda t: t.replace(\"\\n\", \" \"))\n",
    "    simple_tweets[\"user_name\"] = tweets[\"user\"].apply(lambda u: u[\"name\"])\n",
    "    simple_tweets[\"user_followers\"] = tweets[\"user\"].apply(lambda u: u[\"followers_count\"])\n",
    "    simple_tweets[\"sym\"] = tweets[\"entities\"].apply(lambda entities: \",\".join(list(map(lambda s: s[\"text\"], entities[\"symbols\"]))))\n",
    "\n",
    "    return simple_tweets\n",
    "\n",
    "# load_tweets(100000)"
   ]
  },
  {
   "cell_type": "code",
   "execution_count": 23,
   "metadata": {},
   "outputs": [],
   "source": [
    "def load_prices(price_path=\"data/price/preprocessed\"):\n",
    "    dfs = []\n",
    "    cols = [\"date\", \"movement percent\", \"norm open price\", \"norm high price\", \"norm low price\", \"norm close price\", \"volume\"]\n",
    "\n",
    "    for symbol in tqdm(os.listdir(price_path)):\n",
    "        file_path = os.path.join(price_path, symbol)\n",
    "\n",
    "        df = pd.read_csv(file_path, sep=\"\\t\", names=cols)\n",
    "        df[\"symbol\"] = symbol.replace(\".txt\", \"\")\n",
    "        dfs.append(df)\n",
    "\n",
    "    return pd.concat(dfs, axis=0)\n",
    "\n",
    "# load_prices()"
   ]
  }
 ]
}