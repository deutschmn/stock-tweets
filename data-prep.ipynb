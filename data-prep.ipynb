{
 "metadata": {
  "language_info": {
   "codemirror_mode": {
    "name": "ipython",
    "version": 3
   },
   "file_extension": ".py",
   "mimetype": "text/x-python",
   "name": "python",
   "nbconvert_exporter": "python",
   "pygments_lexer": "ipython3",
   "version": "3.9.2"
  },
  "orig_nbformat": 2,
  "kernelspec": {
   "name": "python392jvsc74a57bd0425977397c83a3f0ac1f40aaa96f3d66b73f4b36467c10a5c539e2a361506e78",
   "display_name": "Python 3.9.2 64-bit ('3.9.2': pyenv)"
  }
 },
 "nbformat": 4,
 "nbformat_minor": 2,
 "cells": [
  {
   "cell_type": "code",
   "execution_count": 1,
   "metadata": {},
   "outputs": [],
   "source": [
    "import pandas as pd\n",
    "import numpy as np\n",
    "from tqdm.notebook import tqdm\n",
    "import json\n",
    "import os\n",
    "from transformers import AutoTokenizer, AutoModelForSequenceClassification\n",
    "import torch"
   ]
  },
  {
   "cell_type": "code",
   "execution_count": 2,
   "metadata": {},
   "outputs": [
    {
     "output_type": "display_data",
     "data": {
      "text/plain": "HBox(children=(FloatProgress(value=0.0, max=87.0), HTML(value='')))",
      "application/vnd.jupyter.widget-view+json": {
       "version_major": 2,
       "version_minor": 0,
       "model_id": "ad3962c6423f4ecd84adf15d8466d96c"
      }
     },
     "metadata": {}
    },
    {
     "output_type": "stream",
     "name": "stdout",
     "text": [
      "\nFound 94 tweets\n"
     ]
    },
    {
     "output_type": "execute_result",
     "data": {
      "text/plain": [
       "                        date  \\\n",
       "12 2016-01-28 22:51:31+00:00   \n",
       "2  2015-09-16 13:26:02+00:00   \n",
       "7  2015-07-20 13:14:35+00:00   \n",
       "34 2016-01-28 21:11:04+00:00   \n",
       "3  2014-08-20 15:20:05+00:00   \n",
       "..                       ...   \n",
       "2  2015-02-15 05:36:11+00:00   \n",
       "1  2014-12-09 01:32:04+00:00   \n",
       "15 2015-01-29 20:40:00+00:00   \n",
       "4  2015-03-04 22:02:06+00:00   \n",
       "1  2014-04-22 11:07:50+00:00   \n",
       "\n",
       "                                                 text            user_name  \\\n",
       "12  Microsoft is treading water when it comes to h...     Business Insider   \n",
       "2   Why Latin American students want to work at @M...             CNNMoney   \n",
       "7   RT @StockHighAlert: #PENNYSTOCKS $PUGE $TWTR $...       BIG MONEY MIKE   \n",
       "34  RT @LaMonicaBuzz: Amazon SubPrime? Yikes. Amaz...             CNNMoney   \n",
       "3   Amazon versus the world: a recent history http...     Fortune Magazine   \n",
       "..                                                ...                  ...   \n",
       "2   RT @Cytegic: #Visa, #MasterCard to roll out ne...        Treadstone 71   \n",
       "1   Americans aren't loving McDonald's food, so wh...          MarketWatch   \n",
       "15  RT @jimcramer: Don't you love a stock that goe...       DR JAMES CABOT   \n",
       "4   McDonald's U.S. restaurants will stop selling ...  Wall Street Journal   \n",
       "1   Earnings Alert: Comcast reports Q1 EPS $0.68 e...                 CNBC   \n",
       "\n",
       "    user_followers                     sym  \n",
       "12         1446421                    MSFT  \n",
       "2          1114936              MSFT,GOOGL  \n",
       "7          2049504  PUGE,TWTR,FB,MSFT,PUGE  \n",
       "34         1180864                    AMZN  \n",
       "3          1326263                    AMZN  \n",
       "..             ...                     ...  \n",
       "2          1093575                    V,MA  \n",
       "1          1182937                     MCD  \n",
       "15         1614099                MCD,TWTR  \n",
       "4          5937170                     MCD  \n",
       "1          1447684                   CMCSA  \n",
       "\n",
       "[94 rows x 5 columns]"
      ],
      "text/html": "<div>\n<style scoped>\n    .dataframe tbody tr th:only-of-type {\n        vertical-align: middle;\n    }\n\n    .dataframe tbody tr th {\n        vertical-align: top;\n    }\n\n    .dataframe thead th {\n        text-align: right;\n    }\n</style>\n<table border=\"1\" class=\"dataframe\">\n  <thead>\n    <tr style=\"text-align: right;\">\n      <th></th>\n      <th>date</th>\n      <th>text</th>\n      <th>user_name</th>\n      <th>user_followers</th>\n      <th>sym</th>\n    </tr>\n  </thead>\n  <tbody>\n    <tr>\n      <th>12</th>\n      <td>2016-01-28 22:51:31+00:00</td>\n      <td>Microsoft is treading water when it comes to h...</td>\n      <td>Business Insider</td>\n      <td>1446421</td>\n      <td>MSFT</td>\n    </tr>\n    <tr>\n      <th>2</th>\n      <td>2015-09-16 13:26:02+00:00</td>\n      <td>Why Latin American students want to work at @M...</td>\n      <td>CNNMoney</td>\n      <td>1114936</td>\n      <td>MSFT,GOOGL</td>\n    </tr>\n    <tr>\n      <th>7</th>\n      <td>2015-07-20 13:14:35+00:00</td>\n      <td>RT @StockHighAlert: #PENNYSTOCKS $PUGE $TWTR $...</td>\n      <td>BIG MONEY MIKE</td>\n      <td>2049504</td>\n      <td>PUGE,TWTR,FB,MSFT,PUGE</td>\n    </tr>\n    <tr>\n      <th>34</th>\n      <td>2016-01-28 21:11:04+00:00</td>\n      <td>RT @LaMonicaBuzz: Amazon SubPrime? Yikes. Amaz...</td>\n      <td>CNNMoney</td>\n      <td>1180864</td>\n      <td>AMZN</td>\n    </tr>\n    <tr>\n      <th>3</th>\n      <td>2014-08-20 15:20:05+00:00</td>\n      <td>Amazon versus the world: a recent history http...</td>\n      <td>Fortune Magazine</td>\n      <td>1326263</td>\n      <td>AMZN</td>\n    </tr>\n    <tr>\n      <th>...</th>\n      <td>...</td>\n      <td>...</td>\n      <td>...</td>\n      <td>...</td>\n      <td>...</td>\n    </tr>\n    <tr>\n      <th>2</th>\n      <td>2015-02-15 05:36:11+00:00</td>\n      <td>RT @Cytegic: #Visa, #MasterCard to roll out ne...</td>\n      <td>Treadstone 71</td>\n      <td>1093575</td>\n      <td>V,MA</td>\n    </tr>\n    <tr>\n      <th>1</th>\n      <td>2014-12-09 01:32:04+00:00</td>\n      <td>Americans aren't loving McDonald's food, so wh...</td>\n      <td>MarketWatch</td>\n      <td>1182937</td>\n      <td>MCD</td>\n    </tr>\n    <tr>\n      <th>15</th>\n      <td>2015-01-29 20:40:00+00:00</td>\n      <td>RT @jimcramer: Don't you love a stock that goe...</td>\n      <td>DR JAMES CABOT</td>\n      <td>1614099</td>\n      <td>MCD,TWTR</td>\n    </tr>\n    <tr>\n      <th>4</th>\n      <td>2015-03-04 22:02:06+00:00</td>\n      <td>McDonald's U.S. restaurants will stop selling ...</td>\n      <td>Wall Street Journal</td>\n      <td>5937170</td>\n      <td>MCD</td>\n    </tr>\n    <tr>\n      <th>1</th>\n      <td>2014-04-22 11:07:50+00:00</td>\n      <td>Earnings Alert: Comcast reports Q1 EPS $0.68 e...</td>\n      <td>CNBC</td>\n      <td>1447684</td>\n      <td>CMCSA</td>\n    </tr>\n  </tbody>\n</table>\n<p>94 rows × 5 columns</p>\n</div>"
     },
     "metadata": {},
     "execution_count": 2
    }
   ],
   "source": [
    "tweet_path = \"data/tweet/raw\"\n",
    "min_followers = 1000000\n",
    "\n",
    "dfs = []\n",
    "\n",
    "for symbol in tqdm(os.listdir(tweet_path)):\n",
    "    for day in os.listdir(os.path.join(tweet_path, symbol)):\n",
    "        file_path = os.path.join(tweet_path, symbol, day)\n",
    "\n",
    "        with open(file_path) as f:\n",
    "            content = f.readlines()\n",
    "            d = list(map(json.loads, content))\n",
    "            df = pd.DataFrame(d)\n",
    "            df = df[df[\"user\"].apply(lambda u: u[\"followers_count\"]) > min_followers]\n",
    "            if len(df) > 0:\n",
    "                dfs.append(df)\n",
    "\n",
    "tweets = pd.concat(dfs)\n",
    "print(f\"Found {len(tweets)} tweets\")\n",
    "\n",
    "simple_tweets = pd.DataFrame()\n",
    "simple_tweets[\"date\"] = pd.to_datetime(tweets[\"created_at\"])\n",
    "simple_tweets[\"text\"] = tweets[\"text\"].apply(lambda t: t.replace(\"\\n\", \" \"))\n",
    "simple_tweets[\"user_name\"] = tweets[\"user\"].apply(lambda u: u[\"name\"])\n",
    "simple_tweets[\"user_followers\"] = tweets[\"user\"].apply(lambda u: u[\"followers_count\"])\n",
    "simple_tweets[\"sym\"] = tweets[\"entities\"].apply(lambda entities: \",\".join(list(map(lambda s: s[\"text\"], entities[\"symbols\"]))))\n",
    "\n",
    "simple_tweets"
   ]
  },
  {
   "cell_type": "code",
   "execution_count": 3,
   "metadata": {},
   "outputs": [
    {
     "output_type": "display_data",
     "data": {
      "text/plain": "HBox(children=(FloatProgress(value=0.0, description='Downloading', max=953.0, style=ProgressStyle(description_…",
      "application/vnd.jupyter.widget-view+json": {
       "version_major": 2,
       "version_minor": 0,
       "model_id": "b6770d3da5594285a6950f4147bd5e88"
      }
     },
     "metadata": {}
    },
    {
     "output_type": "stream",
     "name": "stdout",
     "text": [
      "\n"
     ]
    },
    {
     "output_type": "display_data",
     "data": {
      "text/plain": "HBox(children=(FloatProgress(value=0.0, description='Downloading', max=871891.0, style=ProgressStyle(descripti…",
      "application/vnd.jupyter.widget-view+json": {
       "version_major": 2,
       "version_minor": 0,
       "model_id": "7d3dbafa07814f20bb6e5665a2a55fbd"
      }
     },
     "metadata": {}
    },
    {
     "output_type": "stream",
     "name": "stdout",
     "text": [
      "\n"
     ]
    },
    {
     "output_type": "display_data",
     "data": {
      "text/plain": "HBox(children=(FloatProgress(value=0.0, description='Downloading', max=112.0, style=ProgressStyle(description_…",
      "application/vnd.jupyter.widget-view+json": {
       "version_major": 2,
       "version_minor": 0,
       "model_id": "88eb6bc341b84dc686c40c954ff9aba7"
      }
     },
     "metadata": {}
    },
    {
     "output_type": "stream",
     "name": "stdout",
     "text": [
      "\n"
     ]
    },
    {
     "output_type": "display_data",
     "data": {
      "text/plain": "HBox(children=(FloatProgress(value=0.0, description='Downloading', max=39.0, style=ProgressStyle(description_w…",
      "application/vnd.jupyter.widget-view+json": {
       "version_major": 2,
       "version_minor": 0,
       "model_id": "56c395232aa543af9241041b7d5f9872"
      }
     },
     "metadata": {}
    },
    {
     "output_type": "stream",
     "name": "stdout",
     "text": [
      "\n"
     ]
    },
    {
     "output_type": "display_data",
     "data": {
      "text/plain": "HBox(children=(FloatProgress(value=0.0, description='Downloading', max=669491321.0, style=ProgressStyle(descri…",
      "application/vnd.jupyter.widget-view+json": {
       "version_major": 2,
       "version_minor": 0,
       "model_id": "f0defb0ffb394ee78515a77160376ab5"
      }
     },
     "metadata": {}
    },
    {
     "output_type": "stream",
     "name": "stdout",
     "text": [
      "\n"
     ]
    }
   ],
   "source": [
    "# https://huggingface.co/nlptown/bert-base-multilingual-uncased-sentiment\n",
    "tokenizer = AutoTokenizer.from_pretrained(\"nlptown/bert-base-multilingual-uncased-sentiment\")\n",
    "\n",
    "model = AutoModelForSequenceClassification.from_pretrained(\"nlptown/bert-base-multilingual-uncased-sentiment\")"
   ]
  },
  {
   "cell_type": "code",
   "execution_count": 28,
   "metadata": {},
   "outputs": [],
   "source": [
    "tweet_in = list(simple_tweets[\"text\"])"
   ]
  },
  {
   "cell_type": "code",
   "execution_count": 29,
   "metadata": {},
   "outputs": [],
   "source": [
    "inputs = tokenizer(tweet_in, return_tensors=\"pt\", padding=True)\n",
    "outputs = model(**inputs)"
   ]
  },
  {
   "cell_type": "code",
   "execution_count": 32,
   "metadata": {},
   "outputs": [],
   "source": [
    "sentiment = torch.argmax(outputs.logits, dim=1) + 1"
   ]
  },
  {
   "cell_type": "code",
   "execution_count": 33,
   "metadata": {},
   "outputs": [],
   "source": [
    "simple_tweets[\"sentiment\"] = sentiment"
   ]
  },
  {
   "cell_type": "code",
   "execution_count": 35,
   "metadata": {},
   "outputs": [],
   "source": [
    "simple_tweets.to_csv(\"with_sent.csv\")"
   ]
  }
 ]
}